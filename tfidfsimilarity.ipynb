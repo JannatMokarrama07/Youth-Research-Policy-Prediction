{
 "cells": [
  {
   "cell_type": "code",
   "execution_count": 1,
   "metadata": {
    "colab": {
     "base_uri": "https://localhost:8080/"
    },
    "id": "ZCrjKCTKMEVV",
    "outputId": "3fa6129e-a6c7-421b-97e0-a5e1640ba2e3"
   },
   "outputs": [
    {
     "name": "stdout",
     "output_type": "stream",
     "text": [
      "__Memory Allocated (Device): 0\n",
      "__Max Memory Allocated: 0.0\n",
      "__Memory Reserved: 0.0\n",
      "__Currently used device: 0\n",
      "__CUDNN VERSION: 8500\n",
      "__Number CUDA Devices: 1\n",
      "__CUDA Device Name: NVIDIA GeForce RTX 2080 SUPER\n",
      "__CUDA Device Total Memory [GB]: _CudaDeviceProperties(name='NVIDIA GeForce RTX 2080 SUPER', major=7, minor=5, total_memory=7969MB, multi_processor_count=48)\n"
     ]
    }
   ],
   "source": [
    "import torch\n",
    "use_cuda = torch.cuda.is_available()\n",
    "if use_cuda:\n",
    "    print('__Memory Allocated (Device):',torch.cuda.memory_allocated())\n",
    "    print('__Max Memory Allocated:',torch.cuda.max_memory_allocated()/1e6)\n",
    "    print('__Memory Reserved:',torch.cuda.memory_reserved()/1e9)\n",
    "    print('__Currently used device:', torch.cuda.current_device())\n",
    "    print('__CUDNN VERSION:', torch.backends.cudnn.version())\n",
    "    print('__Number CUDA Devices:', torch.cuda.device_count())\n",
    "    print('__CUDA Device Name:',torch.cuda.get_device_name(0))\n",
    "    print('__CUDA Device Total Memory [GB]:',torch.cuda.get_device_properties(0))#.total_memory/1e6)"
   ]
  },
  {
   "cell_type": "code",
   "execution_count": 2,
   "metadata": {
    "colab": {
     "base_uri": "https://localhost:8080/"
    },
    "id": "GuB59YncUaHT",
    "outputId": "dedf247c-a625-49a9-cae3-f946a1813852"
   },
   "outputs": [],
   "source": [
    "# from google.colab import drive\n",
    "# drive.mount('/content/drive')"
   ]
  },
  {
   "cell_type": "code",
   "execution_count": 3,
   "metadata": {
    "colab": {
     "base_uri": "https://localhost:8080/"
    },
    "id": "KM0zaK-yj_W_",
    "outputId": "f849d593-e1e3-46a0-bbdc-cc680c47ae79"
   },
   "outputs": [
    {
     "name": "stdout",
     "output_type": "stream",
     "text": [
      "Python 3.7.13\n"
     ]
    }
   ],
   "source": [
    "!python --version"
   ]
  },
  {
   "cell_type": "code",
   "execution_count": null,
   "metadata": {
    "id": "T-YSeDK0lIf4"
   },
   "outputs": [],
   "source": [
    "!pip3 install requests-html\n",
    "!pip3 install text-preprocessing\n",
    "\n",
    "!pip3 install nltk"
   ]
  },
  {
   "cell_type": "code",
   "execution_count": 34,
   "metadata": {
    "id": "eGQVPLJIkMLR"
   },
   "outputs": [],
   "source": [
    "import os\n",
    "import csv \n",
    "import numpy as np\n",
    "import pandas as pd\n",
    "import random\n",
    "import math\n",
    "import ast\n",
    "import re\n",
    "import regex\n",
    "import string\n",
    "#import functools\n",
    "from functools import reduce\n",
    "import operator  \n",
    "import warnings\n",
    "\n",
    "\n",
    "from collections import OrderedDict\n",
    "from collections import defaultdict\n",
    "from datetime import datetime\n",
    "from datetime import date\n",
    "from ast import literal_eval\n",
    "\n",
    "import urllib\n",
    "import requests\n",
    "import json\n",
    "import shutil\n",
    "import time\n",
    "import fnmatch\n",
    "from pathlib import Path\n",
    "\n",
    "from requests_html import AsyncHTMLSession\n",
    "from urllib.parse import urlparse\n",
    "from requests_html import HTMLSession\n",
    "\n",
    "#import PyPaperBot\n",
    "import nltk\n",
    "#import fitz\n",
    "from nltk.corpus import stopwords\n",
    "from nltk.stem import WordNetLemmatizer\n",
    "\n",
    "\n",
    "\n",
    "#from scidownl import scihub_download\n",
    "import pickle\n",
    "from text_preprocessing import preprocess_text\n",
    "from text_preprocessing import *\n",
    "# from sentence_transformers import SentenceTransformer\n",
    "# from sentence_transformers import models\n",
    "# from sentence_transformers import util\n",
    "\n",
    "#import torch\n",
    "#from transformers import AutoTokenizer, AutoModel\n",
    "\n",
    "from sklearn.feature_extraction.text import TfidfVectorizer\n",
    "from sklearn.feature_extraction.text import CountVectorizer\n",
    "from sklearn.metrics.pairwise import cosine_similarity\n",
    "\n",
    "import matplotlib.pyplot as plt\n",
    "import seaborn as sns\n",
    "from matplotlib.pyplot import figure\n",
    "from functools import reduce\n",
    "import operator  \n",
    "import warnings\n",
    "\n",
    "from itertools import groupby\n",
    "\n",
    "#from requests_html import HTMLSession\n",
    "\n",
    "# import nest_asyncio\n",
    "# nest_asyncio.apply()\n",
    "\n",
    "warnings.filterwarnings(\"ignore\", category=DeprecationWarning)\n",
    "warnings.filterwarnings(\"ignore\", category=FutureWarning)\n",
    "\n"
   ]
  },
  {
   "cell_type": "code",
   "execution_count": 35,
   "metadata": {
    "colab": {
     "base_uri": "https://localhost:8080/"
    },
    "id": "boUT_Bq9kMO3",
    "outputId": "8613ef30-0378-4f37-ff39-d9e0b68aba18"
   },
   "outputs": [
    {
     "name": "stderr",
     "output_type": "stream",
     "text": [
      "[nltk_data] Downloading package stopwords to\n",
      "[nltk_data]     /home/psych256lab/nltk_data...\n",
      "[nltk_data]   Package stopwords is already up-to-date!\n"
     ]
    }
   ],
   "source": [
    "nltk.download('stopwords')\n",
    "stop_words = stopwords.words('english')\n",
    "stopwords = nltk.corpus.stopwords.words('english')\n",
    "lemmatizer = WordNetLemmatizer()"
   ]
  },
  {
   "cell_type": "code",
   "execution_count": 36,
   "metadata": {},
   "outputs": [],
   "source": [
    "\n",
    "vocab = set(w.lower() for w in nltk.corpus.words.words())\n",
    "lemmatizer = WordNetLemmatizer()"
   ]
  },
  {
   "cell_type": "code",
   "execution_count": 37,
   "metadata": {
    "id": "Y9v6Kyhyr1-3"
   },
   "outputs": [],
   "source": [
    "# for reproducibility\n",
    "np.random.seed(1)"
   ]
  },
  {
   "cell_type": "code",
   "execution_count": 100,
   "metadata": {
    "id": "D-fbKb8RpeJh"
   },
   "outputs": [],
   "source": [
    "filterd_articlePolicyList2 = pd.read_csv('filterd_articlePolicyList.csv', encoding='utf-8')"
   ]
  },
  {
   "cell_type": "code",
   "execution_count": 101,
   "metadata": {
    "colab": {
     "base_uri": "https://localhost:8080/"
    },
    "id": "Eds_0PFUrn5R",
    "outputId": "4c74ef14-1feb-4b45-e7a8-5c2b6f525191"
   },
   "outputs": [
    {
     "name": "stdout",
     "output_type": "stream",
     "text": [
      "<class 'pandas.core.frame.DataFrame'>\n",
      "RangeIndex: 2301 entries, 0 to 2300\n",
      "Data columns (total 10 columns):\n",
      " #   Column                      Non-Null Count  Dtype  \n",
      "---  ------                      --------------  -----  \n",
      " 0   url                         2301 non-null   object \n",
      " 1   title                       2301 non-null   object \n",
      " 2   policyList                  2301 non-null   object \n",
      " 3   policyTitles                2301 non-null   object \n",
      " 4   USApolicyCitation           2301 non-null   int64  \n",
      " 5   successful_policyList       2301 non-null   object \n",
      " 6   successful_policyTitles     2301 non-null   object \n",
      " 7   articlePdf                  2301 non-null   object \n",
      " 8   total_successful_policy     2301 non-null   int64  \n",
      " 9   successfulPolicyPercentage  2301 non-null   float64\n",
      "dtypes: float64(1), int64(2), object(7)\n",
      "memory usage: 179.9+ KB\n"
     ]
    }
   ],
   "source": [
    "filterd_articlePolicyList2.info()"
   ]
  },
  {
   "cell_type": "code",
   "execution_count": 102,
   "metadata": {
    "id": "qWiXiHPArn82"
   },
   "outputs": [],
   "source": [
    "filterd_articlePolicyList2.set_index('url', inplace =True)"
   ]
  },
  {
   "cell_type": "code",
   "execution_count": 103,
   "metadata": {
    "colab": {
     "base_uri": "https://localhost:8080/",
     "height": 35
    },
    "id": "lTcw6_A4rygR",
    "outputId": "afab8284-885d-423f-fe88-d87fb612bd30"
   },
   "outputs": [
    {
     "data": {
      "text/plain": [
       "'5_the frequency of common skin conditions in preschoolaged children in australia.pdf'"
      ]
     },
     "execution_count": 103,
     "metadata": {},
     "output_type": "execute_result"
    }
   ],
   "source": [
    "filterd_articlePolicyList2.at['https://doi.org/10.1001/archderm.139.3.318','articlePdf']"
   ]
  },
  {
   "cell_type": "markdown",
   "metadata": {
    "id": "qkwgRpp8jGfU"
   },
   "source": []
  },
  {
   "cell_type": "code",
   "execution_count": 104,
   "metadata": {
    "id": "NudplnvSr0c4"
   },
   "outputs": [],
   "source": [
    "filterd_articlePolicyList2.policyTitles = filterd_articlePolicyList2.policyTitles.apply(literal_eval)\n",
    "filterd_articlePolicyList2.policyList =  filterd_articlePolicyList2.policyList.apply(literal_eval)                \n",
    "filterd_articlePolicyList2.successful_policyList = filterd_articlePolicyList2.successful_policyList.apply(literal_eval)\n",
    "filterd_articlePolicyList2.successful_policyTitles = filterd_articlePolicyList2.successful_policyTitles.apply(literal_eval)\n",
    "#filterd_articlePolicyList2.articlePdf = filterd_articlePolicyList2.articlePdf.apply(literal_eval)"
   ]
  },
  {
   "cell_type": "code",
   "execution_count": 105,
   "metadata": {
    "id": "m_SP32DIpOus"
   },
   "outputs": [],
   "source": [
    "new_similarity_column = 'tfidf_sim'\n",
    "filterd_articlePolicyList2.insert(len(filterd_articlePolicyList2.columns), new_similarity_column, '[]')\n",
    "filterd_articlePolicyList2[new_similarity_column] = filterd_articlePolicyList2[new_similarity_column].apply(literal_eval)"
   ]
  },
  {
   "cell_type": "code",
   "execution_count": 106,
   "metadata": {
    "colab": {
     "base_uri": "https://localhost:8080/"
    },
    "id": "aEGUPf4Or9WO",
    "outputId": "9e404079-51c9-4c8d-cdf2-f69d2593304d"
   },
   "outputs": [
    {
     "name": "stdout",
     "output_type": "stream",
     "text": [
      "<class 'pandas.core.frame.DataFrame'>\n",
      "Index: 2301 entries, https://doi.org/10.1001/archderm.138.12.1584 to https://doi.org/10.9778/cmajo.20190026\n",
      "Data columns (total 10 columns):\n",
      " #   Column                      Non-Null Count  Dtype  \n",
      "---  ------                      --------------  -----  \n",
      " 0   title                       2301 non-null   object \n",
      " 1   policyList                  2301 non-null   object \n",
      " 2   policyTitles                2301 non-null   object \n",
      " 3   USApolicyCitation           2301 non-null   int64  \n",
      " 4   successful_policyList       2301 non-null   object \n",
      " 5   successful_policyTitles     2301 non-null   object \n",
      " 6   articlePdf                  2301 non-null   object \n",
      " 7   total_successful_policy     2301 non-null   int64  \n",
      " 8   successfulPolicyPercentage  2301 non-null   float64\n",
      " 9   tfidf_sim                   2301 non-null   object \n",
      "dtypes: float64(1), int64(2), object(7)\n",
      "memory usage: 262.3+ KB\n"
     ]
    }
   ],
   "source": [
    "filterd_articlePolicyList2.info()"
   ]
  },
  {
   "cell_type": "code",
   "execution_count": 107,
   "metadata": {
    "id": "FUo7--5Ar0gU"
   },
   "outputs": [],
   "source": [
    "# #Load sentences & embeddings from disc\n",
    "with open('policy_sentences.pkl', \"rb\") as fIn:\n",
    "    policy_sentences = pickle.load(fIn)"
   ]
  },
  {
   "cell_type": "code",
   "execution_count": 108,
   "metadata": {
    "id": "XHNL08DosUpr"
   },
   "outputs": [],
   "source": [
    "# #Load sentences & embeddings from disc\n",
    "with open('article_abstract_sentences.pkl', \"rb\") as fIn:\n",
    "    article_sentences = pickle.load(fIn)\n",
    "#filterd_articlePolicyList2.info()\n",
    "   "
   ]
  },
  {
   "cell_type": "code",
   "execution_count": null,
   "metadata": {
    "id": "a665ioeR28qE"
   },
   "outputs": [],
   "source": [
    "article_sentences['https://doi.org/10.9778/cmajo.20190026']  \n"
   ]
  },
  {
   "cell_type": "code",
   "execution_count": 110,
   "metadata": {
    "id": "iT-jyQjDiM99"
   },
   "outputs": [],
   "source": [
    "vectorizer = TfidfVectorizer()"
   ]
  },
  {
   "cell_type": "code",
   "execution_count": 111,
   "metadata": {
    "id": "H0L2bOtwkm_Z"
   },
   "outputs": [],
   "source": [
    "def calculateArticlePolicySimilarity(index: str, article_doc: str, policy_doc: str)->None:\n",
    "\n",
    "    tfidf_matrix = vectorizer.fit_transform([article_doc, policy_doc])\n",
    "    similarity_score = float(\"{:0.3f}\".format(cosine_similarity(tfidf_matrix[0], tfidf_matrix[1])[0][0]))\n",
    "    filterd_articlePolicyList2.at[index,'tfidf_sim'] += [similarity_score]\n",
    "    \n",
    "    return None"
   ]
  },
  {
   "cell_type": "code",
   "execution_count": 112,
   "metadata": {
    "id": "Yzlys78x6dbh"
   },
   "outputs": [],
   "source": [
    "# #original \n",
    "# def getPreprocessedDocument(index: str, policy_index: int, policy_url: str, file_type: str)-> str:\n",
    "\n",
    "#     url = index\n",
    "#     type_sentences = article_sentences\n",
    "#     doc =''\n",
    "\n",
    "#     if file_type=='policy':\n",
    "#         url = policy_url\n",
    "#         type_sentences = policy_sentences\n",
    "#     if (url in type_sentences):\n",
    "#         sentence_list = type_sentences[url]\n",
    "#         doc = [nltk.word_tokenize(sentence.lower()) for sentence in sentence_list if sentence != ''] #doc.split()\n",
    "#         doc = reduce(operator.iconcat, doc, []) #flatten list of lists of tokens\n",
    "#         #print(\"split: \", doc)\n",
    "#         doc = ' '.join([lemmatizer.lemmatize(word) for word in doc if not word in set(stop_words)])\n",
    "                       \n",
    "#     return doc"
   ]
  },
  {
   "cell_type": "code",
   "execution_count": 113,
   "metadata": {},
   "outputs": [],
   "source": [
    "remove_token = list(string.ascii_lowercase[1:26]) +['al','mo','cox']"
   ]
  },
  {
   "cell_type": "code",
   "execution_count": 114,
   "metadata": {},
   "outputs": [],
   "source": [
    "def sentenceProcessing1(sentence:str)->list:\n",
    "    token_list = nltk.word_tokenize(sentence.lower())\n",
    "    filtered_token_list = [token for token in token_list if token not in remove_token if token not in stop_words if token in vocab ] #\n",
    "    filtered_token_list1 = [i[0] for i in groupby(filtered_token_list)] #removes consecutive duplicate words\n",
    "    # filtered_token_list2 = [token for token in filtered_token_list1 if token not in stop_words]\n",
    "    #if len(filtered_token_list2)!=0:\n",
    "    return filtered_token_list1\n",
    "    #else:\n",
    "     #   return list()"
   ]
  },
  {
   "cell_type": "code",
   "execution_count": 122,
   "metadata": {},
   "outputs": [],
   "source": [
    "def getPreprocessedDocument1(index: str, policy_index: int, policy_url: str, file_type: str)-> str:\n",
    "\n",
    "    url = index\n",
    "    type_sentences = article_sentences\n",
    "    title = filterd_articlePolicyList2.at[index,'title'] # for title-title \n",
    "    doc =''\n",
    "\n",
    "    if file_type=='policy':\n",
    "        url = policy_url\n",
    "        type_sentences = policy_sentences\n",
    "        policy_pdf_title = filterd_articlePolicyList2.at[index,'successful_policyTitles'][policy_index] # for title-title\n",
    "        title = policy_pdf_title # # for title-title \n",
    "    if (url in type_sentences):\n",
    "        # sentence_list = type_sentences[url]\n",
    "        # if (len(sentence_list)!=0):\n",
    "        if (len(title)!=0):\n",
    "            # tokenized_sentence_list = [sentenceProcessing1(sentence) for sentence in sentence_list if sentence != ''] #doc.split()\n",
    "            doc = sentenceProcessing1(title) #for sentence in title if sentence != ''] #doc.split()\n",
    "            # # preprocessed_article= ' '.join([TreebankWordDetokenizer().detokenize(tokenized_sentence) for tokenized_sentence in tokenized_sentence_list if len(tokenized_sentence)!=0])\n",
    "            # # doc = [nltk.word_tokenize(sentence.lower()) for sentence in sentence_list if sentence != ''] #doc.split()\n",
    "            # doc = reduce(operator.iconcat, tokenized_sentence_list, []) #flatten list of lists of tokens\n",
    "            # #print(\"split: \", doc)\n",
    "            doc = ' '.join([lemmatizer.lemmatize(word) for word in doc if not word in set(stop_words)])\n",
    "\n",
    "    return doc"
   ]
  },
  {
   "cell_type": "code",
   "execution_count": 123,
   "metadata": {},
   "outputs": [],
   "source": [
    "# def textProcessing(index: str):  # article is a list of sentences\n",
    "#     if index in article_sentences:\n",
    "#         article_sentence_list = article_sentences[index]\n",
    "#         if (len(article_sentence_list)!=0):\n",
    "#             tokenized_sentence_list = [sentenceProcessing(sentence) for sentence in article_sentence_list if sentence != ''] #doc.split()\n",
    "#             preprocessed_article= ' '.join([TreebankWordDetokenizer().detokenize(tokenized_sentence) for tokenized_sentence in tokenized_sentence_list if len(tokenized_sentence)!=0])\n",
    "\n",
    "#             lexical_analysis(index, preprocessed_article)\n",
    "#     ### call function for measurements\n",
    "    \n",
    "#     return None"
   ]
  },
  {
   "cell_type": "code",
   "execution_count": 124,
   "metadata": {
    "id": "Ta_-BaeV6Osp"
   },
   "outputs": [],
   "source": [
    "#for index in df:\n",
    "def getTfIdfSimilarity(index:str)->None:\n",
    "    # For Articles\n",
    "    article_url = index #filterd_articlePolicyList2.at[index,'url']\n",
    "    preprocessed_article = getPreprocessedDocument1(index, policy_index = -1, policy_url='', file_type = 'article')\n",
    "    if (len(preprocessed_article)):\n",
    "        policy_urls= filterd_articlePolicyList2.at[index,'successful_policyList']\n",
    "        preprocessed_policy_list =  [getPreprocessedDocument1(index, policy_index, policy_url, file_type = 'policy') for policy_index, policy_url in enumerate(policy_urls)]\n",
    "                        # List of embedding dictionaries\n",
    "        output = [calculateArticlePolicySimilarity(index, preprocessed_article,preprocessed_policy)  for preprocessed_policy in preprocessed_policy_list if len(preprocessed_policy_list)!=0 and len(preprocessed_policy)!=0]      \n",
    "    #         filterd_articlePolicyList2.at[index,'final_policy_pdfs'] += [policy_pdf_title]           \n",
    "\n",
    "    return None"
   ]
  },
  {
   "cell_type": "code",
   "execution_count": 125,
   "metadata": {},
   "outputs": [],
   "source": [
    "# article_sentences['https://doi.org/10.9778/cmajo.20190026'] "
   ]
  },
  {
   "cell_type": "code",
   "execution_count": 126,
   "metadata": {
    "colab": {
     "base_uri": "https://localhost:8080/",
     "height": 165
    },
    "id": "Xo8xl3s66EHl",
    "outputId": "029ef2b3-9252-46e4-8a93-b676233c1670"
   },
   "outputs": [],
   "source": [
    "article_list = list(filterd_articlePolicyList2.index)"
   ]
  },
  {
   "cell_type": "code",
   "execution_count": 127,
   "metadata": {},
   "outputs": [],
   "source": [
    "# getTfIdfSimilarity('https://doi.org/10.9778/cmajo.20190026')\n",
    "# filterd_articlePolicyList2.at['https://doi.org/10.9778/cmajo.20190026','tfidf_sim']"
   ]
  },
  {
   "cell_type": "code",
   "execution_count": 131,
   "metadata": {},
   "outputs": [
    {
     "data": {
      "text/html": [
       "<div>\n",
       "<style scoped>\n",
       "    .dataframe tbody tr th:only-of-type {\n",
       "        vertical-align: middle;\n",
       "    }\n",
       "\n",
       "    .dataframe tbody tr th {\n",
       "        vertical-align: top;\n",
       "    }\n",
       "\n",
       "    .dataframe thead th {\n",
       "        text-align: right;\n",
       "    }\n",
       "</style>\n",
       "<table border=\"1\" class=\"dataframe\">\n",
       "  <thead>\n",
       "    <tr style=\"text-align: right;\">\n",
       "      <th></th>\n",
       "      <th>title</th>\n",
       "      <th>policyList</th>\n",
       "      <th>policyTitles</th>\n",
       "      <th>USApolicyCitation</th>\n",
       "      <th>successful_policyList</th>\n",
       "      <th>successful_policyTitles</th>\n",
       "      <th>articlePdf</th>\n",
       "      <th>total_successful_policy</th>\n",
       "      <th>successfulPolicyPercentage</th>\n",
       "      <th>tfidf_sim</th>\n",
       "    </tr>\n",
       "    <tr>\n",
       "      <th>url</th>\n",
       "      <th></th>\n",
       "      <th></th>\n",
       "      <th></th>\n",
       "      <th></th>\n",
       "      <th></th>\n",
       "      <th></th>\n",
       "      <th></th>\n",
       "      <th></th>\n",
       "      <th></th>\n",
       "      <th></th>\n",
       "    </tr>\n",
       "  </thead>\n",
       "  <tbody>\n",
       "    <tr>\n",
       "      <th>https://doi.org/10.1001/archderm.138.12.1584</th>\n",
       "      <td>acne vulgaris</td>\n",
       "      <td>[https://www.ncbi.nlm.nih.gov/pmc/articles/PMC...</td>\n",
       "      <td>[Approaches to limit systemic antibiotic use i...</td>\n",
       "      <td>1</td>\n",
       "      <td>[https://www.ncbi.nlm.nih.gov/pmc/articles/PMC...</td>\n",
       "      <td>[3_0_approaches to limit systemic antibiotic u...</td>\n",
       "      <td>3_acne vulgaris.pdf</td>\n",
       "      <td>1</td>\n",
       "      <td>100.00</td>\n",
       "      <td>[0.21]</td>\n",
       "    </tr>\n",
       "    <tr>\n",
       "      <th>https://doi.org/10.1001/archderm.139.3.318</th>\n",
       "      <td>the frequency of common skin conditions in pre...</td>\n",
       "      <td>[https://www.ncbi.nlm.nih.gov/pmc/articles/PMC...</td>\n",
       "      <td>[Topical antifungals for seborrhoeic dermatiti...</td>\n",
       "      <td>3</td>\n",
       "      <td>[https://www.ncbi.nlm.nih.gov/pmc/articles/PMC...</td>\n",
       "      <td>[5_1_interventions for infantile seborrhoeic d...</td>\n",
       "      <td>5_the frequency of common skin conditions in p...</td>\n",
       "      <td>3</td>\n",
       "      <td>100.00</td>\n",
       "      <td>[0.0, 0.0]</td>\n",
       "    </tr>\n",
       "    <tr>\n",
       "      <th>https://doi.org/10.1001/archgenpsychiatry.2009.173</th>\n",
       "      <td>brief personalitytargeted coping skills interv...</td>\n",
       "      <td>[https://purl.fdlp.gov/GPO/gpo75951]</td>\n",
       "      <td>[Facing addiction in America : the Surgeon Gen...</td>\n",
       "      <td>1</td>\n",
       "      <td>[https://purl.fdlp.gov/GPO/gpo75951]</td>\n",
       "      <td>[16_0_facing addiction in america  the surgeon...</td>\n",
       "      <td>16_brief personalitytargeted coping skills int...</td>\n",
       "      <td>1</td>\n",
       "      <td>100.00</td>\n",
       "      <td>[0.0]</td>\n",
       "    </tr>\n",
       "    <tr>\n",
       "      <th>https://doi.org/10.1001/archgenpsychiatry.2009.186</th>\n",
       "      <td>childhood adversities and adult psychiatric di...</td>\n",
       "      <td>[https://www.aclu.org/legal-document/rilr-v-jo...</td>\n",
       "      <td>[RILR v. Johnson - Amended Motion for Prelimin...</td>\n",
       "      <td>6</td>\n",
       "      <td>[https://hhs.texas.gov/sites/default/files/doc...</td>\n",
       "      <td>[17_3_the mommies toolkit improving outcomes f...</td>\n",
       "      <td>17_childhood adversities and adult psychiatric...</td>\n",
       "      <td>4</td>\n",
       "      <td>66.67</td>\n",
       "      <td>[0.0, 0.0, 0.0, 0.0]</td>\n",
       "    </tr>\n",
       "    <tr>\n",
       "      <th>https://doi.org/10.1001/archgenpsychiatry.2010.168</th>\n",
       "      <td>antidepressant monotherapy vs sequential pharm...</td>\n",
       "      <td>[https://www.ncbi.nlm.nih.gov/pmc/articles/PMC...</td>\n",
       "      <td>[Approaches for discontinuation versus continu...</td>\n",
       "      <td>5</td>\n",
       "      <td>[https://www.ncbi.nlm.nih.gov/pmc/articles/PMC...</td>\n",
       "      <td>[20_1_canadian network for mood and anxiety tr...</td>\n",
       "      <td>20_antidepressant monotherapy vs sequential ph...</td>\n",
       "      <td>4</td>\n",
       "      <td>80.00</td>\n",
       "      <td>[0.0, 0.0, 0.0, 0.093]</td>\n",
       "    </tr>\n",
       "    <tr>\n",
       "      <th>...</th>\n",
       "      <td>...</td>\n",
       "      <td>...</td>\n",
       "      <td>...</td>\n",
       "      <td>...</td>\n",
       "      <td>...</td>\n",
       "      <td>...</td>\n",
       "      <td>...</td>\n",
       "      <td>...</td>\n",
       "      <td>...</td>\n",
       "      <td>...</td>\n",
       "    </tr>\n",
       "    <tr>\n",
       "      <th>https://doi.org/10.9745/ghsp-d-18-00275</th>\n",
       "      <td>mlearning in the democratic republic of the co...</td>\n",
       "      <td>[https://www.ncbi.nlm.nih.gov/pmc/articles/PMC...</td>\n",
       "      <td>[Health workers’ perceptions and experiences o...</td>\n",
       "      <td>1</td>\n",
       "      <td>[https://www.ncbi.nlm.nih.gov/pmc/articles/PMC...</td>\n",
       "      <td>[52264_0_health workers perceptions and experi...</td>\n",
       "      <td>52264_mlearning in the democratic republic of ...</td>\n",
       "      <td>1</td>\n",
       "      <td>100.00</td>\n",
       "      <td>[0.0]</td>\n",
       "    </tr>\n",
       "    <tr>\n",
       "      <th>https://doi.org/10.9745/ghsp-d-19-00195</th>\n",
       "      <td>effectiveness of an electronic partogram a mix...</td>\n",
       "      <td>[https://www.ncbi.nlm.nih.gov/pmc/articles/PMC...</td>\n",
       "      <td>[The injustice of unfit clinical practice guid...</td>\n",
       "      <td>1</td>\n",
       "      <td>[https://www.ncbi.nlm.nih.gov/pmc/articles/PMC...</td>\n",
       "      <td>[52266_0_the injustice of unfit clinical pract...</td>\n",
       "      <td>52266_effectiveness of an electronic partogram...</td>\n",
       "      <td>1</td>\n",
       "      <td>100.00</td>\n",
       "      <td>[0.0]</td>\n",
       "    </tr>\n",
       "    <tr>\n",
       "      <th>https://doi.org/10.9758/cpn.2013.11.3.107</th>\n",
       "      <td>the neuroimmunology of schizophrenia</td>\n",
       "      <td>[https://www.ncbi.nlm.nih.gov/pmc/articles/PMC...</td>\n",
       "      <td>[Acetylsalicylic acid (aspirin) for schizophre...</td>\n",
       "      <td>1</td>\n",
       "      <td>[https://www.ncbi.nlm.nih.gov/pmc/articles/PMC...</td>\n",
       "      <td>[52270_0_acetylsalicylic acid aspirin for schi...</td>\n",
       "      <td>52270_the neuroimmunology of schizophrenia.pdf</td>\n",
       "      <td>1</td>\n",
       "      <td>100.00</td>\n",
       "      <td>[0.0]</td>\n",
       "    </tr>\n",
       "    <tr>\n",
       "      <th>https://doi.org/10.9758/cpn.2013.11.3.118</th>\n",
       "      <td>transcranial direct current stimulation in sch...</td>\n",
       "      <td>[https://www.ncbi.nlm.nih.gov/pmc/articles/PMC...</td>\n",
       "      <td>[Evidence-Based Guidelines and Secondary Meta-...</td>\n",
       "      <td>1</td>\n",
       "      <td>[https://www.ncbi.nlm.nih.gov/pmc/articles/PMC...</td>\n",
       "      <td>[52271_0_evidencebased guidelines and secondar...</td>\n",
       "      <td>52271_transcranial direct current stimulation ...</td>\n",
       "      <td>1</td>\n",
       "      <td>100.00</td>\n",
       "      <td>[0.407]</td>\n",
       "    </tr>\n",
       "    <tr>\n",
       "      <th>https://doi.org/10.9778/cmajo.20190026</th>\n",
       "      <td>cannabis use during methadone maintenance trea...</td>\n",
       "      <td>[http://jlarc.virginia.gov/pdfs/reports/Rpt542...</td>\n",
       "      <td>[Report to the Governor and the General Assemb...</td>\n",
       "      <td>3</td>\n",
       "      <td>[http://jlarc.virginia.gov/pdfs/reports/Rpt542...</td>\n",
       "      <td>[52275_0_report to the governor and the genera...</td>\n",
       "      <td>52275_cannabis use during methadone maintenanc...</td>\n",
       "      <td>3</td>\n",
       "      <td>100.00</td>\n",
       "      <td>[0.0, 0.0]</td>\n",
       "    </tr>\n",
       "  </tbody>\n",
       "</table>\n",
       "<p>2301 rows × 10 columns</p>\n",
       "</div>"
      ],
      "text/plain": [
       "                                                                                                title  \\\n",
       "url                                                                                                     \n",
       "https://doi.org/10.1001/archderm.138.12.1584                                            acne vulgaris   \n",
       "https://doi.org/10.1001/archderm.139.3.318          the frequency of common skin conditions in pre...   \n",
       "https://doi.org/10.1001/archgenpsychiatry.2009.173  brief personalitytargeted coping skills interv...   \n",
       "https://doi.org/10.1001/archgenpsychiatry.2009.186  childhood adversities and adult psychiatric di...   \n",
       "https://doi.org/10.1001/archgenpsychiatry.2010.168  antidepressant monotherapy vs sequential pharm...   \n",
       "...                                                                                               ...   \n",
       "https://doi.org/10.9745/ghsp-d-18-00275             mlearning in the democratic republic of the co...   \n",
       "https://doi.org/10.9745/ghsp-d-19-00195             effectiveness of an electronic partogram a mix...   \n",
       "https://doi.org/10.9758/cpn.2013.11.3.107                        the neuroimmunology of schizophrenia   \n",
       "https://doi.org/10.9758/cpn.2013.11.3.118           transcranial direct current stimulation in sch...   \n",
       "https://doi.org/10.9778/cmajo.20190026              cannabis use during methadone maintenance trea...   \n",
       "\n",
       "                                                                                           policyList  \\\n",
       "url                                                                                                     \n",
       "https://doi.org/10.1001/archderm.138.12.1584        [https://www.ncbi.nlm.nih.gov/pmc/articles/PMC...   \n",
       "https://doi.org/10.1001/archderm.139.3.318          [https://www.ncbi.nlm.nih.gov/pmc/articles/PMC...   \n",
       "https://doi.org/10.1001/archgenpsychiatry.2009.173               [https://purl.fdlp.gov/GPO/gpo75951]   \n",
       "https://doi.org/10.1001/archgenpsychiatry.2009.186  [https://www.aclu.org/legal-document/rilr-v-jo...   \n",
       "https://doi.org/10.1001/archgenpsychiatry.2010.168  [https://www.ncbi.nlm.nih.gov/pmc/articles/PMC...   \n",
       "...                                                                                               ...   \n",
       "https://doi.org/10.9745/ghsp-d-18-00275             [https://www.ncbi.nlm.nih.gov/pmc/articles/PMC...   \n",
       "https://doi.org/10.9745/ghsp-d-19-00195             [https://www.ncbi.nlm.nih.gov/pmc/articles/PMC...   \n",
       "https://doi.org/10.9758/cpn.2013.11.3.107           [https://www.ncbi.nlm.nih.gov/pmc/articles/PMC...   \n",
       "https://doi.org/10.9758/cpn.2013.11.3.118           [https://www.ncbi.nlm.nih.gov/pmc/articles/PMC...   \n",
       "https://doi.org/10.9778/cmajo.20190026              [http://jlarc.virginia.gov/pdfs/reports/Rpt542...   \n",
       "\n",
       "                                                                                         policyTitles  \\\n",
       "url                                                                                                     \n",
       "https://doi.org/10.1001/archderm.138.12.1584        [Approaches to limit systemic antibiotic use i...   \n",
       "https://doi.org/10.1001/archderm.139.3.318          [Topical antifungals for seborrhoeic dermatiti...   \n",
       "https://doi.org/10.1001/archgenpsychiatry.2009.173  [Facing addiction in America : the Surgeon Gen...   \n",
       "https://doi.org/10.1001/archgenpsychiatry.2009.186  [RILR v. Johnson - Amended Motion for Prelimin...   \n",
       "https://doi.org/10.1001/archgenpsychiatry.2010.168  [Approaches for discontinuation versus continu...   \n",
       "...                                                                                               ...   \n",
       "https://doi.org/10.9745/ghsp-d-18-00275             [Health workers’ perceptions and experiences o...   \n",
       "https://doi.org/10.9745/ghsp-d-19-00195             [The injustice of unfit clinical practice guid...   \n",
       "https://doi.org/10.9758/cpn.2013.11.3.107           [Acetylsalicylic acid (aspirin) for schizophre...   \n",
       "https://doi.org/10.9758/cpn.2013.11.3.118           [Evidence-Based Guidelines and Secondary Meta-...   \n",
       "https://doi.org/10.9778/cmajo.20190026              [Report to the Governor and the General Assemb...   \n",
       "\n",
       "                                                    USApolicyCitation  \\\n",
       "url                                                                     \n",
       "https://doi.org/10.1001/archderm.138.12.1584                        1   \n",
       "https://doi.org/10.1001/archderm.139.3.318                          3   \n",
       "https://doi.org/10.1001/archgenpsychiatry.2009.173                  1   \n",
       "https://doi.org/10.1001/archgenpsychiatry.2009.186                  6   \n",
       "https://doi.org/10.1001/archgenpsychiatry.2010.168                  5   \n",
       "...                                                               ...   \n",
       "https://doi.org/10.9745/ghsp-d-18-00275                             1   \n",
       "https://doi.org/10.9745/ghsp-d-19-00195                             1   \n",
       "https://doi.org/10.9758/cpn.2013.11.3.107                           1   \n",
       "https://doi.org/10.9758/cpn.2013.11.3.118                           1   \n",
       "https://doi.org/10.9778/cmajo.20190026                              3   \n",
       "\n",
       "                                                                                successful_policyList  \\\n",
       "url                                                                                                     \n",
       "https://doi.org/10.1001/archderm.138.12.1584        [https://www.ncbi.nlm.nih.gov/pmc/articles/PMC...   \n",
       "https://doi.org/10.1001/archderm.139.3.318          [https://www.ncbi.nlm.nih.gov/pmc/articles/PMC...   \n",
       "https://doi.org/10.1001/archgenpsychiatry.2009.173               [https://purl.fdlp.gov/GPO/gpo75951]   \n",
       "https://doi.org/10.1001/archgenpsychiatry.2009.186  [https://hhs.texas.gov/sites/default/files/doc...   \n",
       "https://doi.org/10.1001/archgenpsychiatry.2010.168  [https://www.ncbi.nlm.nih.gov/pmc/articles/PMC...   \n",
       "...                                                                                               ...   \n",
       "https://doi.org/10.9745/ghsp-d-18-00275             [https://www.ncbi.nlm.nih.gov/pmc/articles/PMC...   \n",
       "https://doi.org/10.9745/ghsp-d-19-00195             [https://www.ncbi.nlm.nih.gov/pmc/articles/PMC...   \n",
       "https://doi.org/10.9758/cpn.2013.11.3.107           [https://www.ncbi.nlm.nih.gov/pmc/articles/PMC...   \n",
       "https://doi.org/10.9758/cpn.2013.11.3.118           [https://www.ncbi.nlm.nih.gov/pmc/articles/PMC...   \n",
       "https://doi.org/10.9778/cmajo.20190026              [http://jlarc.virginia.gov/pdfs/reports/Rpt542...   \n",
       "\n",
       "                                                                              successful_policyTitles  \\\n",
       "url                                                                                                     \n",
       "https://doi.org/10.1001/archderm.138.12.1584        [3_0_approaches to limit systemic antibiotic u...   \n",
       "https://doi.org/10.1001/archderm.139.3.318          [5_1_interventions for infantile seborrhoeic d...   \n",
       "https://doi.org/10.1001/archgenpsychiatry.2009.173  [16_0_facing addiction in america  the surgeon...   \n",
       "https://doi.org/10.1001/archgenpsychiatry.2009.186  [17_3_the mommies toolkit improving outcomes f...   \n",
       "https://doi.org/10.1001/archgenpsychiatry.2010.168  [20_1_canadian network for mood and anxiety tr...   \n",
       "...                                                                                               ...   \n",
       "https://doi.org/10.9745/ghsp-d-18-00275             [52264_0_health workers perceptions and experi...   \n",
       "https://doi.org/10.9745/ghsp-d-19-00195             [52266_0_the injustice of unfit clinical pract...   \n",
       "https://doi.org/10.9758/cpn.2013.11.3.107           [52270_0_acetylsalicylic acid aspirin for schi...   \n",
       "https://doi.org/10.9758/cpn.2013.11.3.118           [52271_0_evidencebased guidelines and secondar...   \n",
       "https://doi.org/10.9778/cmajo.20190026              [52275_0_report to the governor and the genera...   \n",
       "\n",
       "                                                                                           articlePdf  \\\n",
       "url                                                                                                     \n",
       "https://doi.org/10.1001/archderm.138.12.1584                                      3_acne vulgaris.pdf   \n",
       "https://doi.org/10.1001/archderm.139.3.318          5_the frequency of common skin conditions in p...   \n",
       "https://doi.org/10.1001/archgenpsychiatry.2009.173  16_brief personalitytargeted coping skills int...   \n",
       "https://doi.org/10.1001/archgenpsychiatry.2009.186  17_childhood adversities and adult psychiatric...   \n",
       "https://doi.org/10.1001/archgenpsychiatry.2010.168  20_antidepressant monotherapy vs sequential ph...   \n",
       "...                                                                                               ...   \n",
       "https://doi.org/10.9745/ghsp-d-18-00275             52264_mlearning in the democratic republic of ...   \n",
       "https://doi.org/10.9745/ghsp-d-19-00195             52266_effectiveness of an electronic partogram...   \n",
       "https://doi.org/10.9758/cpn.2013.11.3.107              52270_the neuroimmunology of schizophrenia.pdf   \n",
       "https://doi.org/10.9758/cpn.2013.11.3.118           52271_transcranial direct current stimulation ...   \n",
       "https://doi.org/10.9778/cmajo.20190026              52275_cannabis use during methadone maintenanc...   \n",
       "\n",
       "                                                    total_successful_policy  \\\n",
       "url                                                                           \n",
       "https://doi.org/10.1001/archderm.138.12.1584                              1   \n",
       "https://doi.org/10.1001/archderm.139.3.318                                3   \n",
       "https://doi.org/10.1001/archgenpsychiatry.2009.173                        1   \n",
       "https://doi.org/10.1001/archgenpsychiatry.2009.186                        4   \n",
       "https://doi.org/10.1001/archgenpsychiatry.2010.168                        4   \n",
       "...                                                                     ...   \n",
       "https://doi.org/10.9745/ghsp-d-18-00275                                   1   \n",
       "https://doi.org/10.9745/ghsp-d-19-00195                                   1   \n",
       "https://doi.org/10.9758/cpn.2013.11.3.107                                 1   \n",
       "https://doi.org/10.9758/cpn.2013.11.3.118                                 1   \n",
       "https://doi.org/10.9778/cmajo.20190026                                    3   \n",
       "\n",
       "                                                    successfulPolicyPercentage  \\\n",
       "url                                                                              \n",
       "https://doi.org/10.1001/archderm.138.12.1584                            100.00   \n",
       "https://doi.org/10.1001/archderm.139.3.318                              100.00   \n",
       "https://doi.org/10.1001/archgenpsychiatry.2009.173                      100.00   \n",
       "https://doi.org/10.1001/archgenpsychiatry.2009.186                       66.67   \n",
       "https://doi.org/10.1001/archgenpsychiatry.2010.168                       80.00   \n",
       "...                                                                        ...   \n",
       "https://doi.org/10.9745/ghsp-d-18-00275                                 100.00   \n",
       "https://doi.org/10.9745/ghsp-d-19-00195                                 100.00   \n",
       "https://doi.org/10.9758/cpn.2013.11.3.107                               100.00   \n",
       "https://doi.org/10.9758/cpn.2013.11.3.118                               100.00   \n",
       "https://doi.org/10.9778/cmajo.20190026                                  100.00   \n",
       "\n",
       "                                                                 tfidf_sim  \n",
       "url                                                                         \n",
       "https://doi.org/10.1001/archderm.138.12.1584                        [0.21]  \n",
       "https://doi.org/10.1001/archderm.139.3.318                      [0.0, 0.0]  \n",
       "https://doi.org/10.1001/archgenpsychiatry.2009.173                   [0.0]  \n",
       "https://doi.org/10.1001/archgenpsychiatry.2009.186    [0.0, 0.0, 0.0, 0.0]  \n",
       "https://doi.org/10.1001/archgenpsychiatry.2010.168  [0.0, 0.0, 0.0, 0.093]  \n",
       "...                                                                    ...  \n",
       "https://doi.org/10.9745/ghsp-d-18-00275                              [0.0]  \n",
       "https://doi.org/10.9745/ghsp-d-19-00195                              [0.0]  \n",
       "https://doi.org/10.9758/cpn.2013.11.3.107                            [0.0]  \n",
       "https://doi.org/10.9758/cpn.2013.11.3.118                          [0.407]  \n",
       "https://doi.org/10.9778/cmajo.20190026                          [0.0, 0.0]  \n",
       "\n",
       "[2301 rows x 10 columns]"
      ]
     },
     "execution_count": 131,
     "metadata": {},
     "output_type": "execute_result"
    }
   ],
   "source": [
    "filterd_articlePolicyList2#.info()#['tfidf_sim'].tail(500)"
   ]
  },
  {
   "cell_type": "code",
   "execution_count": 129,
   "metadata": {
    "id": "rr1_fgVV5ufY"
   },
   "outputs": [],
   "source": [
    "out = [getTfIdfSimilarity(article) for article in article_list] # if article_list.index(article)>931]"
   ]
  },
  {
   "cell_type": "code",
   "execution_count": 132,
   "metadata": {},
   "outputs": [],
   "source": [
    "filterd_articlePolicyList2.to_csv(\"ttl_tfidf_sim.csv\",encoding = 'utf-8',index=False)"
   ]
  },
  {
   "cell_type": "code",
   "execution_count": 40,
   "metadata": {
    "colab": {
     "base_uri": "https://localhost:8080/"
    },
    "id": "_GuWpEsVso58",
    "outputId": "28d2830e-b032-4599-ebf4-91bdab16d56a"
   },
   "outputs": [
    {
     "name": "stdout",
     "output_type": "stream",
     "text": [
      "Looking in indexes: https://pypi.org/simple, https://us-python.pkg.dev/colab-wheels/public/simple/\n",
      "Collecting GPUtil\n",
      "  Downloading GPUtil-1.4.0.tar.gz (5.5 kB)\n",
      "  Preparing metadata (setup.py) ... \u001b[?25l\u001b[?25hdone\n",
      "Building wheels for collected packages: GPUtil\n",
      "  Building wheel for GPUtil (setup.py) ... \u001b[?25l\u001b[?25hdone\n",
      "  Created wheel for GPUtil: filename=GPUtil-1.4.0-py3-none-any.whl size=7408 sha256=5633f9d54bf5bd10e33664b16b7f03fc6ef9aaab1c76873d92bc747462bb15b1\n",
      "  Stored in directory: /root/.cache/pip/wheels/a9/8a/bd/81082387151853ab8b6b3ef33426e98f5cbfebc3c397a9d4d0\n",
      "Successfully built GPUtil\n",
      "Installing collected packages: GPUtil\n",
      "Successfully installed GPUtil-1.4.0\n",
      "| ID | GPU | MEM |\n",
      "------------------\n",
      "|  0 |  0% |  0% |\n",
      "None\n",
      "| ID | GPU | MEM |\n",
      "------------------\n",
      "|  0 |  0% |  0% |\n"
     ]
    }
   ],
   "source": [
    "#!pip3 install GPUtil\n",
    "#import torch\n",
    "import gc\n",
    "from GPUtil import showUtilization as gpu_usage\n",
    "from numba import cuda\n",
    "print(gpu_usage())\n",
    "gc.collect()\n",
    "torch.cuda.empty_cache()\n",
    "gpu_usage()"
   ]
  },
  {
   "cell_type": "code",
   "execution_count": 134,
   "metadata": {
    "colab": {
     "base_uri": "https://localhost:8080/",
     "height": 1000
    },
    "id": "lxjO2KShp8k0",
    "outputId": "19b40f86-c8c7-49a2-bec7-dd29ed8c8ad6"
   },
   "outputs": [
    {
     "data": {
      "text/html": [
       "<div>\n",
       "<style scoped>\n",
       "    .dataframe tbody tr th:only-of-type {\n",
       "        vertical-align: middle;\n",
       "    }\n",
       "\n",
       "    .dataframe tbody tr th {\n",
       "        vertical-align: top;\n",
       "    }\n",
       "\n",
       "    .dataframe thead th {\n",
       "        text-align: right;\n",
       "    }\n",
       "</style>\n",
       "<table border=\"1\" class=\"dataframe\">\n",
       "  <thead>\n",
       "    <tr style=\"text-align: right;\">\n",
       "      <th></th>\n",
       "      <th>url</th>\n",
       "      <th>title</th>\n",
       "      <th>policyList</th>\n",
       "      <th>policyTitles</th>\n",
       "      <th>USApolicyCitation</th>\n",
       "      <th>successful_policyList</th>\n",
       "      <th>successful_policyTitles</th>\n",
       "      <th>articlePdf</th>\n",
       "      <th>total_successful_policy</th>\n",
       "      <th>successfulPolicyPercentage</th>\n",
       "      <th>tfidf_sim</th>\n",
       "    </tr>\n",
       "  </thead>\n",
       "  <tbody>\n",
       "    <tr>\n",
       "      <th>0</th>\n",
       "      <td>https://doi.org/10.1001/archderm.138.12.1584</td>\n",
       "      <td>acne vulgaris</td>\n",
       "      <td>[https://www.ncbi.nlm.nih.gov/pmc/articles/PMC...</td>\n",
       "      <td>[Approaches to limit systemic antibiotic use i...</td>\n",
       "      <td>1</td>\n",
       "      <td>[https://www.ncbi.nlm.nih.gov/pmc/articles/PMC...</td>\n",
       "      <td>[3_0_approaches to limit systemic antibiotic u...</td>\n",
       "      <td>3_acne vulgaris.pdf</td>\n",
       "      <td>1</td>\n",
       "      <td>100.00</td>\n",
       "      <td>[0.21]</td>\n",
       "    </tr>\n",
       "    <tr>\n",
       "      <th>1</th>\n",
       "      <td>https://doi.org/10.1001/archderm.139.3.318</td>\n",
       "      <td>the frequency of common skin conditions in pre...</td>\n",
       "      <td>[https://www.ncbi.nlm.nih.gov/pmc/articles/PMC...</td>\n",
       "      <td>[Topical antifungals for seborrhoeic dermatiti...</td>\n",
       "      <td>3</td>\n",
       "      <td>[https://www.ncbi.nlm.nih.gov/pmc/articles/PMC...</td>\n",
       "      <td>[5_1_interventions for infantile seborrhoeic d...</td>\n",
       "      <td>5_the frequency of common skin conditions in p...</td>\n",
       "      <td>3</td>\n",
       "      <td>100.00</td>\n",
       "      <td>[0.0, 0.0]</td>\n",
       "    </tr>\n",
       "    <tr>\n",
       "      <th>2</th>\n",
       "      <td>https://doi.org/10.1001/archgenpsychiatry.2009...</td>\n",
       "      <td>brief personalitytargeted coping skills interv...</td>\n",
       "      <td>[https://purl.fdlp.gov/GPO/gpo75951]</td>\n",
       "      <td>[Facing addiction in America : the Surgeon Gen...</td>\n",
       "      <td>1</td>\n",
       "      <td>[https://purl.fdlp.gov/GPO/gpo75951]</td>\n",
       "      <td>[16_0_facing addiction in america  the surgeon...</td>\n",
       "      <td>16_brief personalitytargeted coping skills int...</td>\n",
       "      <td>1</td>\n",
       "      <td>100.00</td>\n",
       "      <td>[0.0]</td>\n",
       "    </tr>\n",
       "    <tr>\n",
       "      <th>3</th>\n",
       "      <td>https://doi.org/10.1001/archgenpsychiatry.2009...</td>\n",
       "      <td>childhood adversities and adult psychiatric di...</td>\n",
       "      <td>[https://www.aclu.org/legal-document/rilr-v-jo...</td>\n",
       "      <td>[RILR v. Johnson - Amended Motion for Prelimin...</td>\n",
       "      <td>6</td>\n",
       "      <td>[https://hhs.texas.gov/sites/default/files/doc...</td>\n",
       "      <td>[17_3_the mommies toolkit improving outcomes f...</td>\n",
       "      <td>17_childhood adversities and adult psychiatric...</td>\n",
       "      <td>4</td>\n",
       "      <td>66.67</td>\n",
       "      <td>[0.0, 0.0, 0.0, 0.0]</td>\n",
       "    </tr>\n",
       "    <tr>\n",
       "      <th>4</th>\n",
       "      <td>https://doi.org/10.1001/archgenpsychiatry.2010...</td>\n",
       "      <td>antidepressant monotherapy vs sequential pharm...</td>\n",
       "      <td>[https://www.ncbi.nlm.nih.gov/pmc/articles/PMC...</td>\n",
       "      <td>[Approaches for discontinuation versus continu...</td>\n",
       "      <td>5</td>\n",
       "      <td>[https://www.ncbi.nlm.nih.gov/pmc/articles/PMC...</td>\n",
       "      <td>[20_1_canadian network for mood and anxiety tr...</td>\n",
       "      <td>20_antidepressant monotherapy vs sequential ph...</td>\n",
       "      <td>4</td>\n",
       "      <td>80.00</td>\n",
       "      <td>[0.0, 0.0, 0.0, 0.093]</td>\n",
       "    </tr>\n",
       "    <tr>\n",
       "      <th>...</th>\n",
       "      <td>...</td>\n",
       "      <td>...</td>\n",
       "      <td>...</td>\n",
       "      <td>...</td>\n",
       "      <td>...</td>\n",
       "      <td>...</td>\n",
       "      <td>...</td>\n",
       "      <td>...</td>\n",
       "      <td>...</td>\n",
       "      <td>...</td>\n",
       "      <td>...</td>\n",
       "    </tr>\n",
       "    <tr>\n",
       "      <th>2296</th>\n",
       "      <td>https://doi.org/10.9745/ghsp-d-18-00275</td>\n",
       "      <td>mlearning in the democratic republic of the co...</td>\n",
       "      <td>[https://www.ncbi.nlm.nih.gov/pmc/articles/PMC...</td>\n",
       "      <td>[Health workers’ perceptions and experiences o...</td>\n",
       "      <td>1</td>\n",
       "      <td>[https://www.ncbi.nlm.nih.gov/pmc/articles/PMC...</td>\n",
       "      <td>[52264_0_health workers perceptions and experi...</td>\n",
       "      <td>52264_mlearning in the democratic republic of ...</td>\n",
       "      <td>1</td>\n",
       "      <td>100.00</td>\n",
       "      <td>[0.0]</td>\n",
       "    </tr>\n",
       "    <tr>\n",
       "      <th>2297</th>\n",
       "      <td>https://doi.org/10.9745/ghsp-d-19-00195</td>\n",
       "      <td>effectiveness of an electronic partogram a mix...</td>\n",
       "      <td>[https://www.ncbi.nlm.nih.gov/pmc/articles/PMC...</td>\n",
       "      <td>[The injustice of unfit clinical practice guid...</td>\n",
       "      <td>1</td>\n",
       "      <td>[https://www.ncbi.nlm.nih.gov/pmc/articles/PMC...</td>\n",
       "      <td>[52266_0_the injustice of unfit clinical pract...</td>\n",
       "      <td>52266_effectiveness of an electronic partogram...</td>\n",
       "      <td>1</td>\n",
       "      <td>100.00</td>\n",
       "      <td>[0.0]</td>\n",
       "    </tr>\n",
       "    <tr>\n",
       "      <th>2298</th>\n",
       "      <td>https://doi.org/10.9758/cpn.2013.11.3.107</td>\n",
       "      <td>the neuroimmunology of schizophrenia</td>\n",
       "      <td>[https://www.ncbi.nlm.nih.gov/pmc/articles/PMC...</td>\n",
       "      <td>[Acetylsalicylic acid (aspirin) for schizophre...</td>\n",
       "      <td>1</td>\n",
       "      <td>[https://www.ncbi.nlm.nih.gov/pmc/articles/PMC...</td>\n",
       "      <td>[52270_0_acetylsalicylic acid aspirin for schi...</td>\n",
       "      <td>52270_the neuroimmunology of schizophrenia.pdf</td>\n",
       "      <td>1</td>\n",
       "      <td>100.00</td>\n",
       "      <td>[0.0]</td>\n",
       "    </tr>\n",
       "    <tr>\n",
       "      <th>2299</th>\n",
       "      <td>https://doi.org/10.9758/cpn.2013.11.3.118</td>\n",
       "      <td>transcranial direct current stimulation in sch...</td>\n",
       "      <td>[https://www.ncbi.nlm.nih.gov/pmc/articles/PMC...</td>\n",
       "      <td>[Evidence-Based Guidelines and Secondary Meta-...</td>\n",
       "      <td>1</td>\n",
       "      <td>[https://www.ncbi.nlm.nih.gov/pmc/articles/PMC...</td>\n",
       "      <td>[52271_0_evidencebased guidelines and secondar...</td>\n",
       "      <td>52271_transcranial direct current stimulation ...</td>\n",
       "      <td>1</td>\n",
       "      <td>100.00</td>\n",
       "      <td>[0.407]</td>\n",
       "    </tr>\n",
       "    <tr>\n",
       "      <th>2300</th>\n",
       "      <td>https://doi.org/10.9778/cmajo.20190026</td>\n",
       "      <td>cannabis use during methadone maintenance trea...</td>\n",
       "      <td>[http://jlarc.virginia.gov/pdfs/reports/Rpt542...</td>\n",
       "      <td>[Report to the Governor and the General Assemb...</td>\n",
       "      <td>3</td>\n",
       "      <td>[http://jlarc.virginia.gov/pdfs/reports/Rpt542...</td>\n",
       "      <td>[52275_0_report to the governor and the genera...</td>\n",
       "      <td>52275_cannabis use during methadone maintenanc...</td>\n",
       "      <td>3</td>\n",
       "      <td>100.00</td>\n",
       "      <td>[0.0, 0.0]</td>\n",
       "    </tr>\n",
       "  </tbody>\n",
       "</table>\n",
       "<p>2301 rows × 11 columns</p>\n",
       "</div>"
      ],
      "text/plain": [
       "                                                    url  \\\n",
       "0          https://doi.org/10.1001/archderm.138.12.1584   \n",
       "1            https://doi.org/10.1001/archderm.139.3.318   \n",
       "2     https://doi.org/10.1001/archgenpsychiatry.2009...   \n",
       "3     https://doi.org/10.1001/archgenpsychiatry.2009...   \n",
       "4     https://doi.org/10.1001/archgenpsychiatry.2010...   \n",
       "...                                                 ...   \n",
       "2296            https://doi.org/10.9745/ghsp-d-18-00275   \n",
       "2297            https://doi.org/10.9745/ghsp-d-19-00195   \n",
       "2298          https://doi.org/10.9758/cpn.2013.11.3.107   \n",
       "2299          https://doi.org/10.9758/cpn.2013.11.3.118   \n",
       "2300             https://doi.org/10.9778/cmajo.20190026   \n",
       "\n",
       "                                                  title  \\\n",
       "0                                         acne vulgaris   \n",
       "1     the frequency of common skin conditions in pre...   \n",
       "2     brief personalitytargeted coping skills interv...   \n",
       "3     childhood adversities and adult psychiatric di...   \n",
       "4     antidepressant monotherapy vs sequential pharm...   \n",
       "...                                                 ...   \n",
       "2296  mlearning in the democratic republic of the co...   \n",
       "2297  effectiveness of an electronic partogram a mix...   \n",
       "2298               the neuroimmunology of schizophrenia   \n",
       "2299  transcranial direct current stimulation in sch...   \n",
       "2300  cannabis use during methadone maintenance trea...   \n",
       "\n",
       "                                             policyList  \\\n",
       "0     [https://www.ncbi.nlm.nih.gov/pmc/articles/PMC...   \n",
       "1     [https://www.ncbi.nlm.nih.gov/pmc/articles/PMC...   \n",
       "2                  [https://purl.fdlp.gov/GPO/gpo75951]   \n",
       "3     [https://www.aclu.org/legal-document/rilr-v-jo...   \n",
       "4     [https://www.ncbi.nlm.nih.gov/pmc/articles/PMC...   \n",
       "...                                                 ...   \n",
       "2296  [https://www.ncbi.nlm.nih.gov/pmc/articles/PMC...   \n",
       "2297  [https://www.ncbi.nlm.nih.gov/pmc/articles/PMC...   \n",
       "2298  [https://www.ncbi.nlm.nih.gov/pmc/articles/PMC...   \n",
       "2299  [https://www.ncbi.nlm.nih.gov/pmc/articles/PMC...   \n",
       "2300  [http://jlarc.virginia.gov/pdfs/reports/Rpt542...   \n",
       "\n",
       "                                           policyTitles  USApolicyCitation  \\\n",
       "0     [Approaches to limit systemic antibiotic use i...                  1   \n",
       "1     [Topical antifungals for seborrhoeic dermatiti...                  3   \n",
       "2     [Facing addiction in America : the Surgeon Gen...                  1   \n",
       "3     [RILR v. Johnson - Amended Motion for Prelimin...                  6   \n",
       "4     [Approaches for discontinuation versus continu...                  5   \n",
       "...                                                 ...                ...   \n",
       "2296  [Health workers’ perceptions and experiences o...                  1   \n",
       "2297  [The injustice of unfit clinical practice guid...                  1   \n",
       "2298  [Acetylsalicylic acid (aspirin) for schizophre...                  1   \n",
       "2299  [Evidence-Based Guidelines and Secondary Meta-...                  1   \n",
       "2300  [Report to the Governor and the General Assemb...                  3   \n",
       "\n",
       "                                  successful_policyList  \\\n",
       "0     [https://www.ncbi.nlm.nih.gov/pmc/articles/PMC...   \n",
       "1     [https://www.ncbi.nlm.nih.gov/pmc/articles/PMC...   \n",
       "2                  [https://purl.fdlp.gov/GPO/gpo75951]   \n",
       "3     [https://hhs.texas.gov/sites/default/files/doc...   \n",
       "4     [https://www.ncbi.nlm.nih.gov/pmc/articles/PMC...   \n",
       "...                                                 ...   \n",
       "2296  [https://www.ncbi.nlm.nih.gov/pmc/articles/PMC...   \n",
       "2297  [https://www.ncbi.nlm.nih.gov/pmc/articles/PMC...   \n",
       "2298  [https://www.ncbi.nlm.nih.gov/pmc/articles/PMC...   \n",
       "2299  [https://www.ncbi.nlm.nih.gov/pmc/articles/PMC...   \n",
       "2300  [http://jlarc.virginia.gov/pdfs/reports/Rpt542...   \n",
       "\n",
       "                                successful_policyTitles  \\\n",
       "0     [3_0_approaches to limit systemic antibiotic u...   \n",
       "1     [5_1_interventions for infantile seborrhoeic d...   \n",
       "2     [16_0_facing addiction in america  the surgeon...   \n",
       "3     [17_3_the mommies toolkit improving outcomes f...   \n",
       "4     [20_1_canadian network for mood and anxiety tr...   \n",
       "...                                                 ...   \n",
       "2296  [52264_0_health workers perceptions and experi...   \n",
       "2297  [52266_0_the injustice of unfit clinical pract...   \n",
       "2298  [52270_0_acetylsalicylic acid aspirin for schi...   \n",
       "2299  [52271_0_evidencebased guidelines and secondar...   \n",
       "2300  [52275_0_report to the governor and the genera...   \n",
       "\n",
       "                                             articlePdf  \\\n",
       "0                                   3_acne vulgaris.pdf   \n",
       "1     5_the frequency of common skin conditions in p...   \n",
       "2     16_brief personalitytargeted coping skills int...   \n",
       "3     17_childhood adversities and adult psychiatric...   \n",
       "4     20_antidepressant monotherapy vs sequential ph...   \n",
       "...                                                 ...   \n",
       "2296  52264_mlearning in the democratic republic of ...   \n",
       "2297  52266_effectiveness of an electronic partogram...   \n",
       "2298     52270_the neuroimmunology of schizophrenia.pdf   \n",
       "2299  52271_transcranial direct current stimulation ...   \n",
       "2300  52275_cannabis use during methadone maintenanc...   \n",
       "\n",
       "      total_successful_policy  successfulPolicyPercentage  \\\n",
       "0                           1                      100.00   \n",
       "1                           3                      100.00   \n",
       "2                           1                      100.00   \n",
       "3                           4                       66.67   \n",
       "4                           4                       80.00   \n",
       "...                       ...                         ...   \n",
       "2296                        1                      100.00   \n",
       "2297                        1                      100.00   \n",
       "2298                        1                      100.00   \n",
       "2299                        1                      100.00   \n",
       "2300                        3                      100.00   \n",
       "\n",
       "                   tfidf_sim  \n",
       "0                     [0.21]  \n",
       "1                 [0.0, 0.0]  \n",
       "2                      [0.0]  \n",
       "3       [0.0, 0.0, 0.0, 0.0]  \n",
       "4     [0.0, 0.0, 0.0, 0.093]  \n",
       "...                      ...  \n",
       "2296                   [0.0]  \n",
       "2297                   [0.0]  \n",
       "2298                   [0.0]  \n",
       "2299                 [0.407]  \n",
       "2300              [0.0, 0.0]  \n",
       "\n",
       "[2301 rows x 11 columns]"
      ]
     },
     "execution_count": 134,
     "metadata": {},
     "output_type": "execute_result"
    }
   ],
   "source": [
    "filterd_articlePolicyList2"
   ]
  },
  {
   "cell_type": "code",
   "execution_count": 133,
   "metadata": {},
   "outputs": [],
   "source": [
    "filterd_articlePolicyList2.reset_index('url',inplace =True)"
   ]
  },
  {
   "cell_type": "code",
   "execution_count": 135,
   "metadata": {
    "id": "81kkRFkPp8oZ"
   },
   "outputs": [],
   "source": [
    "filterd_articlePolicyList2.to_csv('ttl_tfidf_sim.csv', encoding ='utf-8', index = False)"
   ]
  },
  {
   "cell_type": "markdown",
   "metadata": {
    "id": "hjZ9Oow2jGir"
   },
   "source": []
  },
  {
   "cell_type": "code",
   "execution_count": null,
   "metadata": {
    "id": "lZI3R7SmMK2u"
   },
   "outputs": [],
   "source": [
    "def textProcessing(res:list):\n",
    "    # Stopword removal, converting uppercase into lower case, and lemmatization\n",
    "    data_without_stopwords = []\n",
    "    \n",
    "    for i in range(0, len(res)):\n",
    "        doc = [nltk.word_tokenize(sentence).lower() for sentence in sentList] #doc.split()\n",
    "        functools.reduce(operator.iconcat, doc, [])\n",
    "        print(\"split: \",doc)\n",
    "        doc = ' '.join([lemmatizer.lemmatize(word) for word in doc if not word in set(stopwords)])\n",
    "        # print(\"join: \",doc)\n",
    "        data_without_stopwords += [doc]\n",
    "    return data_without_stopwords\n",
    "\n",
    "response = [\"Good muffins cost $3.88 in New York.  Please buy me\",\"Nick likes to play football, however he is s not too fond  of t'tennis.\",\"The striped bats play were hanging on their feet and ate best fishes\"]\n",
    "doc1=textProcessing(response)\n",
    "print(doc1)\n",
    "#make a single list of words for each sentence (flat)\n",
    "#do the above for article and policy and pass below\n",
    "\n",
    "vectorizer = TfidfVectorizer()\n",
    "tfidf_matrix = vectorizer.fit_transform([doc1[2], doc1[1]])\n",
    "similarity_score = cosine_similarity(tfidf_matrix[0], tfidf_matrix[1])[0][0]\n",
    "similarity_score"
   ]
  }
 ],
 "metadata": {
  "accelerator": "GPU",
  "colab": {
   "provenance": []
  },
  "gpuClass": "standard",
  "kernelspec": {
   "display_name": "Python 3 (ipykernel)",
   "language": "python",
   "name": "python3"
  },
  "language_info": {
   "codemirror_mode": {
    "name": "ipython",
    "version": 3
   },
   "file_extension": ".py",
   "mimetype": "text/x-python",
   "name": "python",
   "nbconvert_exporter": "python",
   "pygments_lexer": "ipython3",
   "version": "3.7.13"
  }
 },
 "nbformat": 4,
 "nbformat_minor": 4
}
